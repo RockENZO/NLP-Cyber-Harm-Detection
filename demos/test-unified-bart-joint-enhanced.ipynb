{
 "cells": [
  {
   "cell_type": "markdown",
   "id": "d6e63b51",
   "metadata": {
    "papermill": {
     "duration": 0.003241,
     "end_time": "2025-10-15T13:22:54.689170",
     "exception": false,
     "start_time": "2025-10-15T13:22:54.685929",
     "status": "completed"
    },
    "tags": []
   },
   "source": [
    "# Test Enhanced Unified BART Joint Model (Kaggle-Ready)\n",
    "\n",
    "This notebook tests the **enhanced BART model** with high-quality contextual reasoning from `models/unified-bart-joint-enhanced/`\n",
    "\n",
    "**Key Features:**\n",
    "- Joint classification + contextual generation\n",
    "- Enhanced reasoning with MAX_TARGET_LENGTH=128\n",
    "- Better generation parameters (beam search, length penalty)\n",
    "- Contextual, feature-based explanations\n",
    "\n",
    "**For Kaggle Usage:**\n",
    "1. Upload the `unified-bart-joint-enhanced` folder as a Kaggle Dataset\n",
    "2. Attach it to this notebook as input\n",
    "3. Update `MODEL_DIR` path in the configuration cell to point to `/kaggle/input/your-dataset-name/unified-bart-joint-enhanced`\n",
    "4. Attach your fraud detection dataset\n",
    "\n",
    "The model performs:\n",
    "- **Classification**: Predicts fraud category labels with confidence scores\n",
    "- **Reasoning Generation**: Generates detailed, context-aware explanations"
   ]
  },
  {
   "cell_type": "code",
   "execution_count": 1,
   "id": "c7298847",
   "metadata": {
    "execution": {
     "iopub.execute_input": "2025-10-15T13:22:54.695884Z",
     "iopub.status.busy": "2025-10-15T13:22:54.695393Z",
     "iopub.status.idle": "2025-10-15T13:23:25.947642Z",
     "shell.execute_reply": "2025-10-15T13:23:25.946713Z"
    },
    "papermill": {
     "duration": 31.260628,
     "end_time": "2025-10-15T13:23:25.952641",
     "exception": false,
     "start_time": "2025-10-15T13:22:54.692013",
     "status": "completed"
    },
    "tags": []
   },
   "outputs": [
    {
     "name": "stderr",
     "output_type": "stream",
     "text": [
      "2025-10-15 13:23:13.949632: E external/local_xla/xla/stream_executor/cuda/cuda_fft.cc:477] Unable to register cuFFT factory: Attempting to register factory for plugin cuFFT when one has already been registered\n",
      "WARNING: All log messages before absl::InitializeLog() is called are written to STDERR\n",
      "E0000 00:00:1760534594.183517      19 cuda_dnn.cc:8310] Unable to register cuDNN factory: Attempting to register factory for plugin cuDNN when one has already been registered\n",
      "E0000 00:00:1760534594.247438      19 cuda_blas.cc:1418] Unable to register cuBLAS factory: Attempting to register factory for plugin cuBLAS when one has already been registered\n"
     ]
    },
    {
     "name": "stdout",
     "output_type": "stream",
     "text": [
      "PyTorch: 2.6.0+cu124\n",
      "Device: cuda\n"
     ]
    }
   ],
   "source": [
    "# 1) Setup and Imports\n",
    "import warnings\n",
    "warnings.filterwarnings('ignore')\n",
    "\n",
    "from pathlib import Path\n",
    "import torch\n",
    "from torch import nn\n",
    "import pandas as pd\n",
    "import numpy as np\n",
    "from transformers import (\n",
    "    AutoTokenizer,\n",
    "    AutoConfig,\n",
    "    BartForConditionalGeneration,\n",
    ")\n",
    "from transformers.modeling_outputs import Seq2SeqLMOutput\n",
    "from sklearn.metrics import accuracy_score, classification_report, confusion_matrix\n",
    "import seaborn as sns\n",
    "import matplotlib.pyplot as plt\n",
    "\n",
    "print('PyTorch:', torch.__version__)\n",
    "device = 'cuda' if torch.cuda.is_available() else ('mps' if hasattr(torch.backends, 'mps') and torch.backends.mps.is_available() else 'cpu')\n",
    "print('Device:', device)"
   ]
  },
  {
   "cell_type": "code",
   "execution_count": 2,
   "id": "e60bea8b",
   "metadata": {
    "execution": {
     "iopub.execute_input": "2025-10-15T13:23:25.959839Z",
     "iopub.status.busy": "2025-10-15T13:23:25.959332Z",
     "iopub.status.idle": "2025-10-15T13:23:25.985511Z",
     "shell.execute_reply": "2025-10-15T13:23:25.984646Z"
    },
    "papermill": {
     "duration": 0.03111,
     "end_time": "2025-10-15T13:23:25.986714",
     "exception": false,
     "start_time": "2025-10-15T13:23:25.955604",
     "status": "completed"
    },
    "tags": []
   },
   "outputs": [
    {
     "name": "stdout",
     "output_type": "stream",
     "text": [
      "Running on Kaggle!\n",
      "\n",
      "Available input datasets:\n",
      "  - fraud-dataset\n",
      "  - unified-bart-joint-enhanced\n",
      "\n",
      "============================================================\n",
      "\n",
      "Model directory: /kaggle/input/unified-bart-joint-enhanced/other/default/1/unified-bart-joint-enhanced\n",
      "Model exists: True\n",
      "CSV exists: True\n",
      "Labels: 9\n",
      "Max target length: 128\n"
     ]
    }
   ],
   "source": [
    "# 2) Configuration\n",
    "# Detect Kaggle environment\n",
    "IS_KAGGLE = Path('/kaggle').exists()\n",
    "\n",
    "if IS_KAGGLE:\n",
    "    # On Kaggle: model should be in /kaggle/input/\n",
    "    # Update 'unified-bart-joint-enhanced-model' to match your uploaded dataset name\n",
    "    MODEL_DIR = Path('/kaggle/input/unified-bart-joint-enhanced/other/default/1/unified-bart-joint-enhanced')\n",
    "    CSV_PATH = Path('/kaggle/input/fraud-dataset/final_fraud_detection_dataset.csv')\n",
    "    \n",
    "    # Show available datasets\n",
    "    print('Running on Kaggle!')\n",
    "    print('\\nAvailable input datasets:')\n",
    "    if Path('/kaggle/input').exists():\n",
    "        for p in sorted(Path('/kaggle/input').glob('*')):\n",
    "            print(f'  - {p.name}')\n",
    "    print('\\n' + '='*60)\n",
    "else:\n",
    "    # Local environment\n",
    "    MODEL_DIR = Path('../models/unified-bart-joint-enhanced')\n",
    "    CSV_PATH = Path('../final_fraud_detection_dataset.csv')\n",
    "    print('Running locally')\n",
    "\n",
    "TEXT_COL = 'text'\n",
    "LABEL_COL = 'detailed_category'\n",
    "MAX_SOURCE_LENGTH = 256\n",
    "MAX_TARGET_LENGTH = 128  # Enhanced target length for richer reasoning\n",
    "\n",
    "DEFAULT_LABELS = [\n",
    "    'job_scam',\n",
    "    'legitimate',\n",
    "    'phishing',\n",
    "    'popup_scam',\n",
    "    'refund_scam',\n",
    "    'reward_scam',\n",
    "    'sms_spam',\n",
    "    'ssn_scam',\n",
    "    'tech_support_scam'\n",
    "]\n",
    "LABEL2ID = {l: i for i, l in enumerate(DEFAULT_LABELS)}\n",
    "ID2LABEL = {i: l for l, i in LABEL2ID.items()}\n",
    "\n",
    "# Enhanced instruction prefix (matches training)\n",
    "INSTRUCTION_PREFIX = (\n",
    "    'Analyze this message and classify it into one of these categories: '\n",
    "    'job_scam, legitimate, phishing, popup_scam, refund_scam, reward_scam, sms_spam, ssn_scam, tech_support_scam. '\n",
    "    'Then explain your reasoning by identifying specific suspicious elements, patterns, or indicators in the message.\\n\\n'\n",
    "    'Message: '\n",
    ")\n",
    "\n",
    "print(f'\\nModel directory: {MODEL_DIR}')\n",
    "print(f'Model exists: {MODEL_DIR.exists()}')\n",
    "print(f'CSV exists: {CSV_PATH.exists()}')\n",
    "print(f'Labels: {len(DEFAULT_LABELS)}')\n",
    "print(f'Max target length: {MAX_TARGET_LENGTH}')"
   ]
  },
  {
   "cell_type": "code",
   "execution_count": 3,
   "id": "7c6a66c0",
   "metadata": {
    "execution": {
     "iopub.execute_input": "2025-10-15T13:23:25.993562Z",
     "iopub.status.busy": "2025-10-15T13:23:25.993339Z",
     "iopub.status.idle": "2025-10-15T13:23:26.003241Z",
     "shell.execute_reply": "2025-10-15T13:23:26.002475Z"
    },
    "papermill": {
     "duration": 0.014795,
     "end_time": "2025-10-15T13:23:26.004455",
     "exception": false,
     "start_time": "2025-10-15T13:23:25.989660",
     "status": "completed"
    },
    "tags": []
   },
   "outputs": [
    {
     "name": "stdout",
     "output_type": "stream",
     "text": [
      "✓ Enhanced model class defined\n"
     ]
    }
   ],
   "source": [
    "# 3) Define Enhanced Joint Model Class (must match training)\n",
    "class BartForJointClassificationAndGeneration(BartForConditionalGeneration):\n",
    "    def __init__(self, config):\n",
    "        super().__init__(config)\n",
    "        self.num_labels = int(getattr(config, 'num_labels', 2))\n",
    "        self.dropout = nn.Dropout(getattr(config, 'classifier_dropout', 0.1))\n",
    "        self.classifier = nn.Linear(config.d_model, self.num_labels)\n",
    "        self.cls_loss_fn = nn.CrossEntropyLoss()\n",
    "        self.cls_loss_weight = float(getattr(config, 'cls_loss_weight', 1.0))\n",
    "        self.gen_loss_weight = float(getattr(config, 'gen_loss_weight', 1.0))\n",
    "        self.config.num_labels = self.num_labels\n",
    "        self.config.cls_loss_weight = self.cls_loss_weight\n",
    "        self.config.gen_loss_weight = self.gen_loss_weight\n",
    "\n",
    "    def pooled_encoder(self, encoder_hidden_states, attention_mask):\n",
    "        mask = attention_mask.unsqueeze(-1).float()\n",
    "        summed = torch.sum(encoder_hidden_states * mask, dim=1)\n",
    "        counts = torch.clamp(mask.sum(dim=1), min=1e-9)\n",
    "        return summed / counts\n",
    "\n",
    "    def forward(self, input_ids=None, attention_mask=None, labels=None, cls_labels=None, **kwargs):\n",
    "        kwargs.pop('return_dict', None)\n",
    "        \n",
    "        # During generation (inference), cls_labels will be None\n",
    "        if cls_labels is not None:\n",
    "            # Training mode: compute both generation and classification\n",
    "            outputs = super().forward(\n",
    "                input_ids=input_ids,\n",
    "                attention_mask=attention_mask,\n",
    "                labels=labels,\n",
    "                output_hidden_states=False,\n",
    "                return_dict=True,\n",
    "                **kwargs\n",
    "            )\n",
    "            enc_out = self.model.encoder(input_ids=input_ids, attention_mask=attention_mask, return_dict=True)\n",
    "            pooled = self.pooled_encoder(enc_out.last_hidden_state, attention_mask)\n",
    "            cls_logits = self.classifier(self.dropout(pooled))\n",
    "            cls_loss = self.cls_loss_fn(cls_logits, cls_labels)\n",
    "            \n",
    "            total_loss = None\n",
    "            if outputs.loss is not None and cls_loss is not None:\n",
    "                total_loss = self.gen_loss_weight * outputs.loss + self.cls_loss_weight * cls_loss\n",
    "            elif outputs.loss is not None:\n",
    "                total_loss = outputs.loss\n",
    "            elif cls_loss is not None:\n",
    "                total_loss = cls_loss\n",
    "            \n",
    "            return Seq2SeqLMOutput(\n",
    "                loss=total_loss,\n",
    "                logits=outputs.logits,\n",
    "                past_key_values=outputs.past_key_values,\n",
    "                decoder_hidden_states=outputs.decoder_hidden_states,\n",
    "                decoder_attentions=outputs.decoder_attentions,\n",
    "                cross_attentions=outputs.cross_attentions,\n",
    "                encoder_last_hidden_state=enc_out.last_hidden_state,\n",
    "                encoder_hidden_states=None,\n",
    "                encoder_attentions=None\n",
    "            ), cls_logits\n",
    "        else:\n",
    "            # Inference/generation mode: just use standard forward\n",
    "            outputs = super().forward(\n",
    "                input_ids=input_ids,\n",
    "                attention_mask=attention_mask,\n",
    "                labels=labels,\n",
    "                output_hidden_states=False,\n",
    "                return_dict=True,\n",
    "                **kwargs\n",
    "            )\n",
    "            return outputs\n",
    "\n",
    "print('✓ Enhanced model class defined')"
   ]
  },
  {
   "cell_type": "code",
   "execution_count": 4,
   "id": "a4d2f33d",
   "metadata": {
    "execution": {
     "iopub.execute_input": "2025-10-15T13:23:26.011270Z",
     "iopub.status.busy": "2025-10-15T13:23:26.011054Z",
     "iopub.status.idle": "2025-10-15T13:23:32.934879Z",
     "shell.execute_reply": "2025-10-15T13:23:32.933962Z"
    },
    "papermill": {
     "duration": 6.928658,
     "end_time": "2025-10-15T13:23:32.936177",
     "exception": false,
     "start_time": "2025-10-15T13:23:26.007519",
     "status": "completed"
    },
    "tags": []
   },
   "outputs": [
    {
     "name": "stdout",
     "output_type": "stream",
     "text": [
      "Loading enhanced model from /kaggle/input/unified-bart-joint-enhanced/other/default/1/unified-bart-joint-enhanced...\n"
     ]
    },
    {
     "name": "stderr",
     "output_type": "stream",
     "text": [
      "You passed along `num_labels=3` with an incompatible id to label map: {'0': 'LABEL_0', '1': 'LABEL_1', '2': 'LABEL_2', '3': 'LABEL_3', '4': 'LABEL_4', '5': 'LABEL_5', '6': 'LABEL_6', '7': 'LABEL_7', '8': 'LABEL_8'}. The number of labels will be overwritten to 9.\n"
     ]
    },
    {
     "name": "stdout",
     "output_type": "stream",
     "text": [
      "✓ Tokenizer loaded (vocab size: 50265)\n",
      "  CLS loss weight: 0.8\n",
      "  GEN loss weight: 1.2\n",
      "✓ Enhanced model loaded on cuda with 139,427,337 parameters\n"
     ]
    }
   ],
   "source": [
    "# 4) Load Enhanced Model and Tokenizer\n",
    "print(f'Loading enhanced model from {MODEL_DIR}...')\n",
    "\n",
    "tokenizer = AutoTokenizer.from_pretrained(str(MODEL_DIR), use_fast=True, local_files_only=True)\n",
    "print(f'✓ Tokenizer loaded (vocab size: {tokenizer.vocab_size})')\n",
    "\n",
    "config = AutoConfig.from_pretrained(str(MODEL_DIR))\n",
    "config.num_labels = len(DEFAULT_LABELS)\n",
    "print(f'  CLS loss weight: {config.cls_loss_weight}')\n",
    "print(f'  GEN loss weight: {config.gen_loss_weight}')\n",
    "\n",
    "joint_model = BartForJointClassificationAndGeneration.from_pretrained(str(MODEL_DIR), config=config)\n",
    "joint_model.to(device)\n",
    "joint_model.eval()\n",
    "\n",
    "num_params = sum(p.numel() for p in joint_model.parameters())\n",
    "print(f'✓ Enhanced model loaded on {device} with {num_params:,} parameters')"
   ]
  },
  {
   "cell_type": "code",
   "execution_count": 5,
   "id": "4829451b",
   "metadata": {
    "execution": {
     "iopub.execute_input": "2025-10-15T13:23:32.943866Z",
     "iopub.status.busy": "2025-10-15T13:23:32.943415Z",
     "iopub.status.idle": "2025-10-15T13:23:32.951306Z",
     "shell.execute_reply": "2025-10-15T13:23:32.950578Z"
    },
    "papermill": {
     "duration": 0.012784,
     "end_time": "2025-10-15T13:23:32.952410",
     "exception": false,
     "start_time": "2025-10-15T13:23:32.939626",
     "status": "completed"
    },
    "tags": []
   },
   "outputs": [
    {
     "name": "stdout",
     "output_type": "stream",
     "text": [
      "✓ Enhanced prediction function ready\n"
     ]
    }
   ],
   "source": [
    "# 5) Enhanced Single Prediction Function\n",
    "def predict_single(text: str, show_all_scores=False, verbose=False):\n",
    "    \"\"\"Predict label and generate enhanced reasoning for a single text.\"\"\"\n",
    "    src = f'{INSTRUCTION_PREFIX}{text}'\n",
    "    inputs = tokenizer(\n",
    "        [src], \n",
    "        return_tensors='pt', \n",
    "        truncation=True, \n",
    "        padding=True, \n",
    "        max_length=MAX_SOURCE_LENGTH\n",
    "    ).to(device)\n",
    "    \n",
    "    with torch.no_grad():\n",
    "        # Classification: Get encoder output and classification logits\n",
    "        enc_out = joint_model.model.encoder(\n",
    "            input_ids=inputs['input_ids'],\n",
    "            attention_mask=inputs['attention_mask'],\n",
    "            return_dict=True\n",
    "        )\n",
    "        pooled = joint_model.pooled_encoder(enc_out.last_hidden_state, inputs['attention_mask'])\n",
    "        cls_logits = joint_model.classifier(pooled)  # No dropout during inference\n",
    "        pred_id = int(cls_logits.argmax(-1).cpu().item())\n",
    "        pred_label = ID2LABEL[pred_id]\n",
    "        \n",
    "        # Confidence scores\n",
    "        probs = torch.softmax(cls_logits, dim=-1)\n",
    "        confidence = float(probs[0, pred_id].cpu().item())\n",
    "        \n",
    "        # Enhanced Generation with better parameters\n",
    "        gen_ids = joint_model.generate(\n",
    "            input_ids=inputs['input_ids'],\n",
    "            attention_mask=inputs['attention_mask'],\n",
    "            max_new_tokens=MAX_TARGET_LENGTH,\n",
    "            num_beams=5,  # Higher beam search for better quality\n",
    "            length_penalty=1.0,  # Balance output length\n",
    "            no_repeat_ngram_size=3,  # Avoid repetitive phrases\n",
    "            early_stopping=True,\n",
    "            do_sample=False\n",
    "        )\n",
    "        reason = tokenizer.decode(gen_ids[0], skip_special_tokens=True)\n",
    "    \n",
    "    if verbose:\n",
    "        print(f'Generated {len(gen_ids[0])} tokens')\n",
    "    \n",
    "    result = {\n",
    "        'text': text,\n",
    "        'predicted_label': pred_label,\n",
    "        'predicted_id': pred_id,\n",
    "        'confidence': confidence,\n",
    "        'reason': reason\n",
    "    }\n",
    "    \n",
    "    if show_all_scores:\n",
    "        all_scores = {ID2LABEL[i]: float(probs[0, i].cpu().item()) for i in range(len(DEFAULT_LABELS))}\n",
    "        result['all_scores'] = all_scores\n",
    "    \n",
    "    return result\n",
    "\n",
    "print('✓ Enhanced prediction function ready')"
   ]
  },
  {
   "cell_type": "code",
   "execution_count": 6,
   "id": "6211abf9",
   "metadata": {
    "execution": {
     "iopub.execute_input": "2025-10-15T13:23:32.959213Z",
     "iopub.status.busy": "2025-10-15T13:23:32.959016Z",
     "iopub.status.idle": "2025-10-15T13:23:35.600876Z",
     "shell.execute_reply": "2025-10-15T13:23:35.600001Z"
    },
    "papermill": {
     "duration": 2.646731,
     "end_time": "2025-10-15T13:23:35.602187",
     "exception": false,
     "start_time": "2025-10-15T13:23:32.955456",
     "status": "completed"
    },
    "tags": []
   },
   "outputs": [
    {
     "name": "stdout",
     "output_type": "stream",
     "text": [
      "\n",
      "================================================================================\n",
      "ENHANCED SAMPLE PREDICTIONS WITH CONTEXTUAL REASONING\n",
      "================================================================================\n",
      "\n",
      "Sample 1:\n",
      "Text: Congratulations! You've won a $1000 Walmart gift card. Click here to claim your prize now before it expires!\n",
      "🎯 Predicted: sms_spam\n",
      "📊 Confidence: 1.000 (100.0%)\n",
      "💡 Enhanced Reasoning: This is SMS spam as includes promotional links, and for unsolicited marketing.\n",
      "--------------------------------------------------------------------------------\n",
      "\n",
      "Sample 2:\n",
      "Text: Your Amazon package has been shipped and will arrive tomorrow. Tracking number: 1Z999AA10123456784. Thank you for your o...\n",
      "🎯 Predicted: sms_spam\n",
      "📊 Confidence: 0.622 (62.2%)\n",
      "💡 Enhanced Reasoning: This is SMS spam as includes promotional links, and for unsolicited marketing.\n",
      "--------------------------------------------------------------------------------\n",
      "\n",
      "Sample 3:\n",
      "Text: URGENT: Your bank account has been suspended due to suspicious activity. Click here to verify your identity immediately ...\n",
      "🎯 Predicted: sms_spam\n",
      "📊 Confidence: 0.995 (99.5%)\n",
      "💡 Enhanced Reasoning: This is SMS spam as includes promotional links, and for unsolicited marketing.\n",
      "--------------------------------------------------------------------------------\n",
      "\n",
      "Sample 4:\n",
      "Text: Work from home and earn $5000 per month! No experience required. Flexible hours. Apply now for this limited opportunity!\n",
      "🎯 Predicted: sms_spam\n",
      "📊 Confidence: 0.946 (94.6%)\n",
      "💡 Enhanced Reasoning: This is SMS spam as for unsolicited marketing.\n",
      "--------------------------------------------------------------------------------\n",
      "\n",
      "Sample 5:\n",
      "Text: WARNING: Your computer has been infected with a virus. Call this number immediately for tech support: 1-800-555-SCAM. Do...\n",
      "🎯 Predicted: sms_spam\n",
      "📊 Confidence: 0.989 (98.9%)\n",
      "💡 Enhanced Reasoning: This is SMS spam as for unsolicited marketing.\n",
      "--------------------------------------------------------------------------------\n",
      "\n",
      "Sample 6:\n",
      "Text: Your Social Security Number has been suspended due to suspicious activity. Call 1-888-555-0199 immediately to resolve th...\n",
      "🎯 Predicted: sms_spam\n",
      "📊 Confidence: 1.000 (100.0%)\n",
      "💡 Enhanced Reasoning: This is SMS spam as for unsolicited marketing.\n",
      "--------------------------------------------------------------------------------\n",
      "\n",
      "Sample 7:\n",
      "Text: Text STOP to 12345 to unsubscribe from our marketing messages. Reply YES for exclusive offers and discounts.\n",
      "🎯 Predicted: sms_spam\n",
      "📊 Confidence: 1.000 (100.0%)\n",
      "💡 Enhanced Reasoning: This is SMS spam as uses text marketing tactics, and for unsolicited marketing.\n",
      "--------------------------------------------------------------------------------\n",
      "\n",
      "Sample 8:\n",
      "Text: Dear valued customer, your monthly subscription payment of $9.99 has been processed successfully. Receipt attached.\n",
      "🎯 Predicted: phishing\n",
      "📊 Confidence: 1.000 (100.0%)\n",
      "💡 Enhanced Reasoning: This appears to be a phishing attempt because to steal personal information.\n",
      "--------------------------------------------------------------------------------\n",
      "\n"
     ]
    }
   ],
   "source": [
    "# 6) Test with Diverse Sample Messages\n",
    "sample_messages = [\n",
    "    \"Congratulations! You've won a $1000 Walmart gift card. Click here to claim your prize now before it expires!\",\n",
    "    \"Your Amazon package has been shipped and will arrive tomorrow. Tracking number: 1Z999AA10123456784. Thank you for your order.\",\n",
    "    \"URGENT: Your bank account has been suspended due to suspicious activity. Click here to verify your identity immediately or your account will be permanently locked.\",\n",
    "    \"Work from home and earn $5000 per month! No experience required. Flexible hours. Apply now for this limited opportunity!\",\n",
    "    \"WARNING: Your computer has been infected with a virus. Call this number immediately for tech support: 1-800-555-SCAM. Do not turn off your computer.\",\n",
    "    \"Your Social Security Number has been suspended due to suspicious activity. Call 1-888-555-0199 immediately to resolve this issue.\",\n",
    "    \"Text STOP to 12345 to unsubscribe from our marketing messages. Reply YES for exclusive offers and discounts.\",\n",
    "    \"Dear valued customer, your monthly subscription payment of $9.99 has been processed successfully. Receipt attached.\",\n",
    "]\n",
    "\n",
    "print('\\n' + '='*80)\n",
    "print('ENHANCED SAMPLE PREDICTIONS WITH CONTEXTUAL REASONING')\n",
    "print('='*80 + '\\n')\n",
    "\n",
    "for i, msg in enumerate(sample_messages, 1):\n",
    "    result = predict_single(msg, show_all_scores=False)\n",
    "    print(f\"Sample {i}:\")\n",
    "    print(f\"Text: {msg[:120]}...\" if len(msg) > 120 else f\"Text: {msg}\")\n",
    "    print(f\"🎯 Predicted: {result['predicted_label']}\")\n",
    "    print(f\"📊 Confidence: {result['confidence']:.3f} ({result['confidence']*100:.1f}%)\")\n",
    "    print(f\"💡 Enhanced Reasoning: {result['reason']}\")\n",
    "    print('-'*80 + '\\n')"
   ]
  },
  {
   "cell_type": "code",
   "execution_count": 7,
   "id": "d307fada",
   "metadata": {
    "execution": {
     "iopub.execute_input": "2025-10-15T13:23:35.611351Z",
     "iopub.status.busy": "2025-10-15T13:23:35.611089Z",
     "iopub.status.idle": "2025-10-15T13:23:35.620203Z",
     "shell.execute_reply": "2025-10-15T13:23:35.619357Z"
    },
    "papermill": {
     "duration": 0.015057,
     "end_time": "2025-10-15T13:23:35.621486",
     "exception": false,
     "start_time": "2025-10-15T13:23:35.606429",
     "status": "completed"
    },
    "tags": []
   },
   "outputs": [
    {
     "name": "stdout",
     "output_type": "stream",
     "text": [
      "✓ Enhanced batch prediction function ready\n"
     ]
    }
   ],
   "source": [
    "# 7) Enhanced Batch Prediction Function\n",
    "def batch_predict(texts: list, batch_size: int = 16, show_progress=True):\n",
    "    \"\"\"Predict labels and enhanced reasoning for multiple texts.\"\"\"\n",
    "    predictions = []\n",
    "    \n",
    "    for i in range(0, len(texts), batch_size):\n",
    "        if show_progress and i % (batch_size * 5) == 0:\n",
    "            print(f'Processing batch {i//batch_size + 1}/{(len(texts)-1)//batch_size + 1}...')\n",
    "        \n",
    "        batch_texts = texts[i:i+batch_size]\n",
    "        batch_src = [f'{INSTRUCTION_PREFIX}{txt}' for txt in batch_texts]\n",
    "        \n",
    "        inputs = tokenizer(\n",
    "            batch_src,\n",
    "            return_tensors='pt',\n",
    "            truncation=True,\n",
    "            padding=True,\n",
    "            max_length=MAX_SOURCE_LENGTH\n",
    "        ).to(device)\n",
    "        \n",
    "        with torch.no_grad():\n",
    "            # Classification\n",
    "            enc_out = joint_model.model.encoder(\n",
    "                input_ids=inputs['input_ids'],\n",
    "                attention_mask=inputs['attention_mask'],\n",
    "                return_dict=True\n",
    "            )\n",
    "            pooled = joint_model.pooled_encoder(enc_out.last_hidden_state, inputs['attention_mask'])\n",
    "            cls_logits = joint_model.classifier(pooled)  # No dropout during inference\n",
    "            pred_ids = cls_logits.argmax(-1).cpu().numpy()\n",
    "            probs = torch.softmax(cls_logits, dim=-1).cpu().numpy()\n",
    "            \n",
    "            # Enhanced Generation\n",
    "            gen_ids = joint_model.generate(\n",
    "                input_ids=inputs['input_ids'],\n",
    "                attention_mask=inputs['attention_mask'],\n",
    "                max_new_tokens=MAX_TARGET_LENGTH,\n",
    "                num_beams=5,  # Higher beam search\n",
    "                length_penalty=1.0,\n",
    "                no_repeat_ngram_size=3,\n",
    "                early_stopping=True,\n",
    "                do_sample=False\n",
    "            )\n",
    "            reasons = tokenizer.batch_decode(gen_ids, skip_special_tokens=True)\n",
    "        \n",
    "        for j, pred_id in enumerate(pred_ids):\n",
    "            predictions.append({\n",
    "                'predicted_label': ID2LABEL[int(pred_id)],\n",
    "                'predicted_id': int(pred_id),\n",
    "                'confidence': float(probs[j, pred_id]),\n",
    "                'reason': reasons[j]\n",
    "            })\n",
    "    \n",
    "    if show_progress:\n",
    "        print('✓ Batch prediction complete')\n",
    "    return predictions\n",
    "\n",
    "print('✓ Enhanced batch prediction function ready')"
   ]
  },
  {
   "cell_type": "code",
   "execution_count": 8,
   "id": "816668f3",
   "metadata": {
    "execution": {
     "iopub.execute_input": "2025-10-15T13:23:35.630308Z",
     "iopub.status.busy": "2025-10-15T13:23:35.629796Z",
     "iopub.status.idle": "2025-10-15T13:23:55.427884Z",
     "shell.execute_reply": "2025-10-15T13:23:55.427066Z"
    },
    "papermill": {
     "duration": 19.803952,
     "end_time": "2025-10-15T13:23:55.429308",
     "exception": false,
     "start_time": "2025-10-15T13:23:35.625356",
     "status": "completed"
    },
    "tags": []
   },
   "outputs": [
    {
     "name": "stdout",
     "output_type": "stream",
     "text": [
      "Loading dataset from /kaggle/input/fraud-dataset/final_fraud_detection_dataset.csv...\n",
      "Testing on 200 samples...\n",
      "\n",
      "Label distribution:\n",
      "detailed_category\n",
      "legitimate     114\n",
      "phishing        62\n",
      "popup_scam      14\n",
      "sms_spam         8\n",
      "refund_scam      1\n",
      "job_scam         1\n",
      "Name: count, dtype: int64\n",
      "\n",
      "Running predictions...\n",
      "Processing batch 1/13...\n",
      "Processing batch 6/13...\n",
      "Processing batch 11/13...\n",
      "✓ Batch prediction complete\n",
      "\n",
      "================================================================================\n",
      "ENHANCED MODEL EVALUATION RESULTS\n",
      "================================================================================\n",
      "Overall Accuracy: 0.9900 (99.00%)\n",
      "Average Confidence: 0.9990 (99.90%)\n",
      "Total Samples: 200\n",
      "\n",
      "Classification Report:\n",
      "              precision    recall  f1-score   support\n",
      "\n",
      "    job_scam     0.0000    0.0000    0.0000         1\n",
      "  legitimate     0.9912    0.9912    0.9912       114\n",
      "    phishing     0.9841    1.0000    0.9920        62\n",
      "  popup_scam     1.0000    1.0000    1.0000        14\n",
      " refund_scam     1.0000    1.0000    1.0000         1\n",
      "    sms_spam     1.0000    1.0000    1.0000         8\n",
      "\n",
      "    accuracy                         0.9900       200\n",
      "   macro avg     0.8292    0.8319    0.8305       200\n",
      "weighted avg     0.9851    0.9900    0.9875       200\n",
      "\n"
     ]
    }
   ],
   "source": [
    "# 8) Comprehensive Evaluation on Dataset\n",
    "if CSV_PATH.exists():\n",
    "    print(f'Loading dataset from {CSV_PATH}...')\n",
    "    df = pd.read_csv(CSV_PATH)\n",
    "    df = df[df[LABEL_COL].isin(DEFAULT_LABELS)].copy()\n",
    "    \n",
    "    # Sample a subset for testing (adjust size as needed)\n",
    "    test_size = 200  # Increase for more comprehensive testing\n",
    "    test_df = df.sample(n=min(test_size, len(df)), random_state=42)\n",
    "    \n",
    "    print(f'Testing on {len(test_df)} samples...')\n",
    "    print('\\nLabel distribution:')\n",
    "    print(test_df[LABEL_COL].value_counts())\n",
    "    \n",
    "    # Get predictions\n",
    "    texts = test_df[TEXT_COL].tolist()\n",
    "    true_labels = test_df[LABEL_COL].tolist()\n",
    "    true_ids = [LABEL2ID[l] for l in true_labels]\n",
    "    \n",
    "    print('\\nRunning predictions...')\n",
    "    predictions = batch_predict(texts, batch_size=16, show_progress=True)\n",
    "    pred_labels = [p['predicted_label'] for p in predictions]\n",
    "    pred_ids = [p['predicted_id'] for p in predictions]\n",
    "    confidences = [p['confidence'] for p in predictions]\n",
    "    \n",
    "    # Calculate metrics\n",
    "    accuracy = accuracy_score(true_ids, pred_ids)\n",
    "    avg_confidence = np.mean(confidences)\n",
    "    \n",
    "    print('\\n' + '='*80)\n",
    "    print('ENHANCED MODEL EVALUATION RESULTS')\n",
    "    print('='*80)\n",
    "    print(f'Overall Accuracy: {accuracy:.4f} ({accuracy*100:.2f}%)')\n",
    "    print(f'Average Confidence: {avg_confidence:.4f} ({avg_confidence*100:.2f}%)')\n",
    "    print(f'Total Samples: {len(test_df)}')\n",
    "    print('\\nClassification Report:')\n",
    "    print(classification_report(true_labels, pred_labels, digits=4))\n",
    "    \n",
    "else:\n",
    "    print(f'Dataset not found at {CSV_PATH}')\n",
    "    print('Skipping evaluation. Please attach your dataset on Kaggle.')"
   ]
  },
  {
   "cell_type": "code",
   "execution_count": 9,
   "id": "ebab72aa",
   "metadata": {
    "execution": {
     "iopub.execute_input": "2025-10-15T13:23:55.438468Z",
     "iopub.status.busy": "2025-10-15T13:23:55.438223Z",
     "iopub.status.idle": "2025-10-15T13:23:55.911024Z",
     "shell.execute_reply": "2025-10-15T13:23:55.910334Z"
    },
    "papermill": {
     "duration": 0.479726,
     "end_time": "2025-10-15T13:23:55.913264",
     "exception": false,
     "start_time": "2025-10-15T13:23:55.433538",
     "status": "completed"
    },
    "tags": []
   },
   "outputs": [
    {
     "data": {
      "image/png": "[encoded data removed]",
      "text/plain": [
       "<Figure size 1200x1000 with 2 Axes>"
      ]
     },
     "metadata": {},
     "output_type": "display_data"
    },
    {
     "name": "stdout",
     "output_type": "stream",
     "text": [
      "\n",
      "Per-Class Accuracy:\n",
      "  job_scam            : 0.0000 (0.00%)\n",
      "  legitimate          : 0.9912 (99.12%)\n",
      "  phishing            : 1.0000 (100.00%)\n",
      "  popup_scam          : 1.0000 (100.00%)\n",
      "  refund_scam         : 1.0000 (100.00%)\n",
      "  reward_scam         : nan (nan%)\n",
      "  sms_spam            : 1.0000 (100.00%)\n",
      "  ssn_scam            : nan (nan%)\n",
      "  tech_support_scam   : nan (nan%)\n"
     ]
    }
   ],
   "source": [
    "# 9) Visualize Confusion Matrix\n",
    "if CSV_PATH.exists() and 'pred_labels' in locals():\n",
    "    # Create confusion matrix\n",
    "    cm = confusion_matrix(true_labels, pred_labels, labels=DEFAULT_LABELS)\n",
    "    \n",
    "    # Plot\n",
    "    plt.figure(figsize=(12, 10))\n",
    "    sns.heatmap(cm, annot=True, fmt='d', cmap='Blues', \n",
    "                xticklabels=DEFAULT_LABELS, yticklabels=DEFAULT_LABELS,\n",
    "                cbar_kws={'label': 'Count'})\n",
    "    plt.title('Enhanced BART Model - Confusion Matrix', fontsize=14, fontweight='bold')\n",
    "    plt.xlabel('Predicted Label', fontsize=12)\n",
    "    plt.ylabel('True Label', fontsize=12)\n",
    "    plt.xticks(rotation=45, ha='right')\n",
    "    plt.yticks(rotation=0)\n",
    "    plt.tight_layout()\n",
    "    plt.show()\n",
    "    \n",
    "    # Per-class accuracy\n",
    "    per_class_acc = cm.diagonal() / cm.sum(axis=1)\n",
    "    print('\\nPer-Class Accuracy:')\n",
    "    for label, acc in zip(DEFAULT_LABELS, per_class_acc):\n",
    "        print(f'  {label:20s}: {acc:.4f} ({acc*100:.2f}%)')"
   ]
  },
  {
   "cell_type": "code",
   "execution_count": 10,
   "id": "a04a3d21",
   "metadata": {
    "execution": {
     "iopub.execute_input": "2025-10-15T13:23:55.924633Z",
     "iopub.status.busy": "2025-10-15T13:23:55.924432Z",
     "iopub.status.idle": "2025-10-15T13:23:55.933012Z",
     "shell.execute_reply": "2025-10-15T13:23:55.932169Z"
    },
    "papermill": {
     "duration": 0.015306,
     "end_time": "2025-10-15T13:23:55.934186",
     "exception": false,
     "start_time": "2025-10-15T13:23:55.918880",
     "status": "completed"
    },
    "tags": []
   },
   "outputs": [
    {
     "name": "stdout",
     "output_type": "stream",
     "text": [
      "\n",
      "================================================================================\n",
      "ENHANCED REASONING QUALITY ANALYSIS\n",
      "================================================================================\n",
      "\n",
      "Average reasoning length: 12.1 words\n",
      "Min/Max reasoning length: 8/23 words\n",
      "\n",
      "✓ Showing 5 correct predictions with enhanced reasoning:\n",
      "\n",
      "Text: Test::Harness 3.0 blocker - VMS...\n",
      "Label: legitimate\n",
      "Confidence: 1.000\n",
      "Enhanced Reasoning: This appears legitimate because lacks urgent pressure, and without suspicious fraud indicators.\n",
      "--------------------------------------------------------------------------------\n",
      "\n",
      "Text: find nt want know dear friend already responded following announcement days ago means package alread...\n",
      "Label: phishing\n",
      "Confidence: 1.000\n",
      "Enhanced Reasoning: This appears to be a phishing attempt because uses urgent language like 'now', and to steal personal information.\n",
      "--------------------------------------------------------------------------------\n",
      "\n",
      "Text: We are looking for EMTs to become Lift Coaches at Atlas Lift Tech. ATLAS has several part-time and f...\n",
      "Label: legitimate\n",
      "Confidence: 1.000\n",
      "Enhanced Reasoning: This appears legitimate because lacks urgent pressure, and without suspicious fraud indicators.\n",
      "--------------------------------------------------------------------------------\n",
      "\n",
      "Text: daily top 10 okamah_2002vgnetcom daily top 10 cnncom top videos stories aug 1 2008 358 pm edt top 10...\n",
      "Label: phishing\n",
      "Confidence: 1.000\n",
      "Enhanced Reasoning: This appears to be a phishing attempt because to steal personal information.\n",
      "--------------------------------------------------------------------------------\n",
      "\n",
      "Text: Innocent: Hello. Suspect: Hello, this is Karen from Speedy Deliveries. I'm calling to confirm the de...\n",
      "Label: legitimate\n",
      "Confidence: 1.000\n",
      "Enhanced Reasoning: This appears legitimate because lacks urgent pressure, and without suspicious fraud indicators.\n",
      "--------------------------------------------------------------------------------\n",
      "\n",
      "\n",
      "✗ Showing 2 incorrect predictions for analysis:\n",
      "\n",
      "Text: pogo interconnect lea county new mexico ....\n",
      "True Label: legitimate\n",
      "Predicted: phishing (confidence: 1.000)\n",
      "Reasoning: This appears to be a phishing attempt because to steal personal information.\n",
      "--------------------------------------------------------------------------------\n",
      "\n",
      "Text: Position: Informatica Tester Location: Herndon, VA Duration : Long term Job Description : Good in In...\n",
      "True Label: job_scam\n",
      "Predicted: legitimate (confidence: 0.838)\n",
      "Reasoning: This appears legitimate because lacks urgent pressure, and without suspicious fraud indicators.\n",
      "--------------------------------------------------------------------------------\n",
      "\n"
     ]
    }
   ],
   "source": [
    "# 10) Analyze Enhanced Reasoning Quality\n",
    "if CSV_PATH.exists() and 'predictions' in locals():\n",
    "    print('\\n' + '='*80)\n",
    "    print('ENHANCED REASONING QUALITY ANALYSIS')\n",
    "    print('='*80 + '\\n')\n",
    "    \n",
    "    # Calculate reasoning statistics\n",
    "    reasoning_lengths = [len(p['reason'].split()) for p in predictions]\n",
    "    avg_length = np.mean(reasoning_lengths)\n",
    "    min_length = np.min(reasoning_lengths)\n",
    "    max_length = np.max(reasoning_lengths)\n",
    "    \n",
    "    print(f'Average reasoning length: {avg_length:.1f} words')\n",
    "    print(f'Min/Max reasoning length: {min_length}/{max_length} words')\n",
    "    \n",
    "    # Show examples of correct predictions with reasoning\n",
    "    correct_indices = [i for i, (t, p) in enumerate(zip(true_labels, pred_labels)) if t == p]\n",
    "    \n",
    "    print(f'\\n✓ Showing {min(5, len(correct_indices))} correct predictions with enhanced reasoning:\\n')\n",
    "    for idx in correct_indices[:5]:\n",
    "        print(f\"Text: {texts[idx][:100]}...\")\n",
    "        print(f\"Label: {true_labels[idx]}\")\n",
    "        print(f\"Confidence: {predictions[idx]['confidence']:.3f}\")\n",
    "        print(f\"Enhanced Reasoning: {predictions[idx]['reason']}\")\n",
    "        print('-'*80 + '\\n')\n",
    "    \n",
    "    # Show examples of incorrect predictions\n",
    "    incorrect_indices = [i for i, (t, p) in enumerate(zip(true_labels, pred_labels)) if t != p]\n",
    "    \n",
    "    if incorrect_indices:\n",
    "        print(f'\\n✗ Showing {min(3, len(incorrect_indices))} incorrect predictions for analysis:\\n')\n",
    "        for idx in incorrect_indices[:3]:\n",
    "            print(f\"Text: {texts[idx][:100]}...\")\n",
    "            print(f\"True Label: {true_labels[idx]}\")\n",
    "            print(f\"Predicted: {pred_labels[idx]} (confidence: {predictions[idx]['confidence']:.3f})\")\n",
    "            print(f\"Reasoning: {predictions[idx]['reason']}\")\n",
    "            print('-'*80 + '\\n')"
   ]
  },
  {
   "cell_type": "code",
   "execution_count": 11,
   "id": "c31467e6",
   "metadata": {
    "execution": {
     "iopub.execute_input": "2025-10-15T13:23:55.954498Z",
     "iopub.status.busy": "2025-10-15T13:23:55.953643Z",
     "iopub.status.idle": "2025-10-15T13:23:56.445798Z",
     "shell.execute_reply": "2025-10-15T13:23:56.445134Z"
    },
    "papermill": {
     "duration": 0.506473,
     "end_time": "2025-10-15T13:23:56.447640",
     "exception": false,
     "start_time": "2025-10-15T13:23:55.941167",
     "status": "completed"
    },
    "tags": []
   },
   "outputs": [
    {
     "data": {
      "image/png": "[encoded data removed]",
      "text/plain": [
       "<Figure size 1200x500 with 2 Axes>"
      ]
     },
     "metadata": {},
     "output_type": "display_data"
    },
    {
     "name": "stdout",
     "output_type": "stream",
     "text": [
      "\n",
      "Average confidence for correct predictions: 0.9998\n",
      "Average confidence for incorrect predictions: 0.9186\n"
     ]
    }
   ],
   "source": [
    "# 11) Confidence Distribution Analysis\n",
    "if CSV_PATH.exists() and 'confidences' in locals():\n",
    "    plt.figure(figsize=(12, 5))\n",
    "    \n",
    "    # Overall confidence distribution\n",
    "    plt.subplot(1, 2, 1)\n",
    "    plt.hist(confidences, bins=30, color='skyblue', edgecolor='black', alpha=0.7)\n",
    "    plt.axvline(avg_confidence, color='red', linestyle='--', linewidth=2, label=f'Mean: {avg_confidence:.3f}')\n",
    "    plt.xlabel('Confidence Score', fontsize=11)\n",
    "    plt.ylabel('Frequency', fontsize=11)\n",
    "    plt.title('Confidence Score Distribution', fontsize=12, fontweight='bold')\n",
    "    plt.legend()\n",
    "    plt.grid(axis='y', alpha=0.3)\n",
    "    \n",
    "    # Confidence by correctness\n",
    "    plt.subplot(1, 2, 2)\n",
    "    correct_conf = [confidences[i] for i in range(len(confidences)) if pred_labels[i] == true_labels[i]]\n",
    "    incorrect_conf = [confidences[i] for i in range(len(confidences)) if pred_labels[i] != true_labels[i]]\n",
    "    \n",
    "    plt.hist([correct_conf, incorrect_conf], bins=20, label=['Correct', 'Incorrect'], \n",
    "             color=['green', 'red'], alpha=0.6, edgecolor='black')\n",
    "    plt.xlabel('Confidence Score', fontsize=11)\n",
    "    plt.ylabel('Frequency', fontsize=11)\n",
    "    plt.title('Confidence: Correct vs Incorrect', fontsize=12, fontweight='bold')\n",
    "    plt.legend()\n",
    "    plt.grid(axis='y', alpha=0.3)\n",
    "    \n",
    "    plt.tight_layout()\n",
    "    plt.show()\n",
    "    \n",
    "    print(f'\\nAverage confidence for correct predictions: {np.mean(correct_conf):.4f}')\n",
    "    if incorrect_conf:\n",
    "        print(f'Average confidence for incorrect predictions: {np.mean(incorrect_conf):.4f}')"
   ]
  },
  {
   "cell_type": "code",
   "execution_count": 12,
   "id": "a75abb3a",
   "metadata": {
    "execution": {
     "iopub.execute_input": "2025-10-15T13:23:56.461214Z",
     "iopub.status.busy": "2025-10-15T13:23:56.460990Z",
     "iopub.status.idle": "2025-10-15T13:23:56.772143Z",
     "shell.execute_reply": "2025-10-15T13:23:56.771213Z"
    },
    "papermill": {
     "duration": 0.318981,
     "end_time": "2025-10-15T13:23:56.773281",
     "exception": false,
     "start_time": "2025-10-15T13:23:56.454300",
     "status": "completed"
    },
    "tags": []
   },
   "outputs": [
    {
     "name": "stdout",
     "output_type": "stream",
     "text": [
      "Generated 27 tokens\n",
      "\n",
      "================================================================================\n",
      "🔬 ENHANCED PREDICTION RESULT\n",
      "================================================================================\n",
      "\n",
      "📝 Input: Click here to update your bank account information to avoid account closure within 24 hours.\n",
      "\n",
      "🎯 Predicted Label: phishing\n",
      "📊 Confidence: 0.981 (98.1%)\n",
      "\n",
      "💡 Enhanced Contextual Reasoning:\n",
      "   This appears to be a phishing attempt because it impersonates bank, includes suspicious links, and to steal personal information.\n",
      "\n",
      "📈 Top 5 Predictions:\n",
      "  ⭐ phishing            : 0.9808 ███████████████████████████████████████\n",
      "    sms_spam            : 0.0150 \n",
      "    legitimate          : 0.0024 \n",
      "    job_scam            : 0.0012 \n",
      "    refund_scam         : 0.0003 \n",
      "================================================================================\n"
     ]
    }
   ],
   "source": [
    "# 12) Interactive Testing - Test Your Own Messages\n",
    "# Run this cell multiple times with different messages\n",
    "\n",
    "# Change this text to test different messages:\n",
    "test_message = \"Click here to update your bank account information to avoid account closure within 24 hours.\"\n",
    "\n",
    "result = predict_single(test_message, show_all_scores=True, verbose=True)\n",
    "\n",
    "print('\\n' + '='*80)\n",
    "print('🔬 ENHANCED PREDICTION RESULT')\n",
    "print('='*80)\n",
    "print(f\"\\n📝 Input: {result['text']}\")\n",
    "print(f\"\\n🎯 Predicted Label: {result['predicted_label']}\")\n",
    "print(f\"📊 Confidence: {result['confidence']:.3f} ({result['confidence']*100:.1f}%)\")\n",
    "print(f\"\\n💡 Enhanced Contextual Reasoning:\")\n",
    "print(f\"   {result['reason']}\")\n",
    "print(f\"\\n📈 Top 5 Predictions:\")\n",
    "top5 = sorted(result['all_scores'].items(), key=lambda x: x[1], reverse=True)[:5]\n",
    "for i, (label, score) in enumerate(top5, 1):\n",
    "    bar = '█' * int(score * 40)\n",
    "    marker = '⭐' if i == 1 else ' '\n",
    "    print(f\"  {marker} {label:20s}: {score:.4f} {bar}\")\n",
    "print('='*80)"
   ]
  },
  {
   "cell_type": "code",
   "execution_count": 13,
   "id": "a2d571dd",
   "metadata": {
    "execution": {
     "iopub.execute_input": "2025-10-15T13:23:56.786017Z",
     "iopub.status.busy": "2025-10-15T13:23:56.785791Z",
     "iopub.status.idle": "2025-10-15T13:23:56.811035Z",
     "shell.execute_reply": "2025-10-15T13:23:56.810128Z"
    },
    "papermill": {
     "duration": 0.032865,
     "end_time": "2025-10-15T13:23:56.812238",
     "exception": false,
     "start_time": "2025-10-15T13:23:56.779373",
     "status": "completed"
    },
    "tags": []
   },
   "outputs": [
    {
     "name": "stdout",
     "output_type": "stream",
     "text": [
      "✓ Results exported to: enhanced_bart_predictions.csv\n",
      "  Total samples: 200\n",
      "  Correct: 198\n",
      "  Incorrect: 2\n",
      "\n",
      "Sample of exported data:\n",
      "                                                text  true_label  \\\n",
      "0                    Test::Harness 3.0 blocker - VMS  legitimate   \n",
      "1  find nt want know dear friend already responde...    phishing   \n",
      "2  We are looking for EMTs to become Lift Coaches...  legitimate   \n",
      "3  daily top 10 okamah_2002vgnetcom daily top 10 ...    phishing   \n",
      "4  Innocent: Hello. Suspect: Hello, this is Karen...  legitimate   \n",
      "\n",
      "  predicted_label  confidence  \n",
      "0      legitimate    0.999937  \n",
      "1        phishing    0.999948  \n",
      "2      legitimate    0.999927  \n",
      "3        phishing    0.999951  \n",
      "4      legitimate    0.999924  \n"
     ]
    }
   ],
   "source": [
    "# 13) Export Results to CSV (optional)\n",
    "if CSV_PATH.exists() and 'predictions' in locals():\n",
    "    results_df = pd.DataFrame({\n",
    "        'text': texts,\n",
    "        'true_label': true_labels,\n",
    "        'predicted_label': pred_labels,\n",
    "        'confidence': confidences,\n",
    "        'correct': [t == p for t, p in zip(true_labels, pred_labels)],\n",
    "        'reasoning': [p['reason'] for p in predictions]\n",
    "    })\n",
    "    \n",
    "    output_path = 'enhanced_bart_predictions.csv'\n",
    "    results_df.to_csv(output_path, index=False)\n",
    "    print(f'✓ Results exported to: {output_path}')\n",
    "    print(f'  Total samples: {len(results_df)}')\n",
    "    print(f'  Correct: {results_df[\"correct\"].sum()}')\n",
    "    print(f'  Incorrect: {(~results_df[\"correct\"]).sum()}')\n",
    "    \n",
    "    # Show sample\n",
    "    print('\\nSample of exported data:')\n",
    "    print(results_df[['text', 'true_label', 'predicted_label', 'confidence']].head())"
   ]
  },
  {
   "cell_type": "code",
   "execution_count": 14,
   "id": "0a7525a8",
   "metadata": {
    "execution": {
     "iopub.execute_input": "2025-10-15T13:23:56.825771Z",
     "iopub.status.busy": "2025-10-15T13:23:56.825525Z",
     "iopub.status.idle": "2025-10-15T13:23:56.831158Z",
     "shell.execute_reply": "2025-10-15T13:23:56.830304Z"
    },
    "papermill": {
     "duration": 0.013306,
     "end_time": "2025-10-15T13:23:56.832208",
     "exception": false,
     "start_time": "2025-10-15T13:23:56.818902",
     "status": "completed"
    },
    "tags": []
   },
   "outputs": [
    {
     "name": "stdout",
     "output_type": "stream",
     "text": [
      "\n",
      "================================================================================\n",
      "📊 ENHANCED MODEL SUMMARY\n",
      "================================================================================\n",
      "\n",
      "Model: unified-bart-joint-enhanced\n",
      "Architecture: BART with joint classification + contextual generation\n",
      "Parameters: 139,427,337\n",
      "Device: cuda\n",
      "\n",
      "Configuration:\n",
      "  - Max source length: 256\n",
      "  - Max target length: 128 (enhanced)\n",
      "  - Classification loss weight: 0.8\n",
      "  - Generation loss weight: 1.2\n",
      "  - Num beams: 5 (enhanced beam search)\n",
      "  - Length penalty: 1.0\n",
      "  - No repeat ngram size: 3\n",
      "\n",
      "Capabilities:\n",
      "  ✓ Multi-class fraud detection (9 categories)\n",
      "  ✓ Enhanced contextual reasoning generation\n",
      "  ✓ Feature-based explanation analysis\n",
      "  ✓ High-quality beam search generation\n",
      "  ✓ Confidence scoring\n",
      "================================================================================\n"
     ]
    }
   ],
   "source": [
    "# 14) Model Summary and Statistics\n",
    "print('\\n' + '='*80)\n",
    "print('📊 ENHANCED MODEL SUMMARY')\n",
    "print('='*80)\n",
    "print(f'\\nModel: unified-bart-joint-enhanced')\n",
    "print(f'Architecture: BART with joint classification + contextual generation')\n",
    "print(f'Parameters: {num_params:,}')\n",
    "print(f'Device: {device}')\n",
    "print(f'\\nConfiguration:')\n",
    "print(f'  - Max source length: {MAX_SOURCE_LENGTH}')\n",
    "print(f'  - Max target length: {MAX_TARGET_LENGTH} (enhanced)')\n",
    "print(f'  - Classification loss weight: {joint_model.cls_loss_weight}')\n",
    "print(f'  - Generation loss weight: {joint_model.gen_loss_weight}')\n",
    "print(f'  - Num beams: 5 (enhanced beam search)')\n",
    "print(f'  - Length penalty: 1.0')\n",
    "print(f'  - No repeat ngram size: 3')\n",
    "print(f'\\nCapabilities:')\n",
    "print('  ✓ Multi-class fraud detection (9 categories)')\n",
    "print('  ✓ Enhanced contextual reasoning generation')\n",
    "print('  ✓ Feature-based explanation analysis')\n",
    "print('  ✓ High-quality beam search generation')\n",
    "print('  ✓ Confidence scoring')\n",
    "print('='*80)"
   ]
  }
 ],
 "metadata": {
  "kaggle": {
   "accelerator": "nvidiaTeslaT4",
   "dataSources": [
    {
     "datasetId": 8286057,
     "sourceId": 13082789,
     "sourceType": "datasetVersion"
    },
    {
     "isSourceIdPinned": true,
     "modelId": 473655,
     "modelInstanceId": 457750,
     "sourceId": 609625,
     "sourceType": "modelInstanceVersion"
    }
   ],
   "isGpuEnabled": true,
   "isInternetEnabled": true,
   "language": "python",
   "sourceType": "notebook"
  },
  "kernelspec": {
   "display_name": "Python 3",
   "language": "python",
   "name": "python3"
  },
  "language_info": {
   "codemirror_mode": {
    "name": "ipython",
    "version": 3
   },
   "file_extension": ".py",
   "mimetype": "text/x-python",
   "name": "python",
   "nbconvert_exporter": "python",
   "pygments_lexer": "ipython3",
   "version": "3.11.13"
  },
  "papermill": {
   "default_parameters": {},
   "duration": 69.053224,
   "end_time": "2025-10-15T13:23:59.839455",
   "environment_variables": {},
   "exception": null,
   "input_path": "__notebook__.ipynb",
   "output_path": "__notebook__.ipynb",
   "parameters": {},
   "start_time": "2025-10-15T13:22:50.786231",
   "version": "2.6.0"
  }
 },
 "nbformat": 4,
 "nbformat_minor": 5
}
